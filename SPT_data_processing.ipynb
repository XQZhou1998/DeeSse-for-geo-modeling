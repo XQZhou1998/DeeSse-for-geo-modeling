{
 "cells": [
  {
   "cell_type": "code",
   "execution_count": 150,
   "metadata": {
    "collapsed": true
   },
   "outputs": [],
   "source": [
    "import xlrd\n",
    "import pandas as pd\n",
    "import numpy as np"
   ]
  },
  {
   "cell_type": "code",
   "execution_count": 151,
   "outputs": [],
   "source": [
    "# for i in\n",
    "data=pd.read_excel('D:\\轨道资料/6号线勘察报告\\A标\\AS2.xlsx',sheet_name=\"Sheet1\",header=None)\n",
    "data=data.iloc[:,2:]\n",
    "data=data.replace(np.nan,0.0)\n",
    "data=np.array(data)\n",
    "index=np.where(data[:,0]>30)\n",
    "data=np.delete(data,index[0],0)"
   ],
   "metadata": {
    "collapsed": false,
    "pycharm": {
     "name": "#%%\n"
    }
   }
  },
  {
   "cell_type": "code",
   "execution_count": 152,
   "outputs": [],
   "source": [
    "d=data.shape[0]\n",
    "depth=np.arange(1,31,1)\n",
    "type=np.zeros((30,1))\n",
    "for i in range(0,d):\n",
    "    x=data[i,1]\n",
    "    y=data[i,2]\n",
    "    z=int(data[i,0])\n",
    "    if i>0 and z < data[i-1,0]:\n",
    "        depth=np.column_stack((depth,type))\n",
    "        type=np.zeros((30,1))\n",
    "    if x==0:\n",
    "        type[z-1,0]=6\n",
    "    if x<50 and y-0.73*(x-20) <=0:\n",
    "            type[z-1,0]=1\n",
    "    if x >50 and y-0.73*(x-20) <=0:\n",
    "            type[z-1,0]=2\n",
    "    if x<50 and y>7 and y-0.73*(x-20) >0 and y-0.9*(x-8)<=0:\n",
    "            type[z-1,0]=3\n",
    "    if x>50 and y-0.73*(x-20) >0 and y-0.9*(x-8)<=0:\n",
    "            type[z-1,0]=4\n",
    "    if y>4 and y<=7 and y-x<=0 and y-0.73*(x-20)>0:\n",
    "            type[z-1,0]=5\n",
    "\n",
    "depth=pd.DataFrame(depth)\n",
    "depth.to_excel(\"D:\\轨道资料/6号线勘察报告\\A标\\TS2.xlsx\")\n"
   ],
   "metadata": {
    "collapsed": false,
    "pycharm": {
     "name": "#%%\n"
    }
   }
  },
  {
   "cell_type": "code",
   "execution_count": 208,
   "outputs": [],
   "source": [
    "data=pd.read_excel(\"D:\\轨道资料\\\\6号线勘察报告\\TI_cpt.xlsx\",sheet_name='Sheet1',header=None)\n",
    "b=data.shape[0]\n",
    "d=data.shape[1]\n",
    "# Data=np.zeros((300,2*d))\n",
    "data=np.array(data)\n",
    "data=data.reshape(-1)\n",
    "np.savetxt(\"D:\\轨道资料\\\\6号线勘察报告\\TI_cpt.txt\",data,'%.1f')"
   ],
   "metadata": {
    "collapsed": false,
    "pycharm": {
     "name": "#%%\n"
    }
   }
  },
  {
   "cell_type": "code",
   "execution_count": 169,
   "outputs": [],
   "source": [
    "for i in range(0,b):\n",
    "    for j in range(0,d):\n",
    "        Data[10*i:10*(i+1),2*j]=data.iloc[i,j]\n",
    "for i in range(0,d):\n",
    "    Data[:,2*i+1]=Data[:,i]\n"
   ],
   "metadata": {
    "collapsed": false,
    "pycharm": {
     "name": "#%%\n"
    }
   }
  },
  {
   "cell_type": "code",
   "execution_count": 170,
   "outputs": [],
   "source": [
    "Data=pd.DataFrame(Data)\n",
    "Data.to_excel(\"D:\\轨道资料/6号线勘察报告/A标\\TI_pro.xlsx\")\n"
   ],
   "metadata": {
    "collapsed": false,
    "pycharm": {
     "name": "#%%\n"
    }
   }
  }
 ],
 "metadata": {
  "kernelspec": {
   "display_name": "Python 3",
   "language": "python",
   "name": "python3"
  },
  "language_info": {
   "codemirror_mode": {
    "name": "ipython",
    "version": 2
   },
   "file_extension": ".py",
   "mimetype": "text/x-python",
   "name": "python",
   "nbconvert_exporter": "python",
   "pygments_lexer": "ipython2",
   "version": "2.7.6"
  }
 },
 "nbformat": 4,
 "nbformat_minor": 0
}