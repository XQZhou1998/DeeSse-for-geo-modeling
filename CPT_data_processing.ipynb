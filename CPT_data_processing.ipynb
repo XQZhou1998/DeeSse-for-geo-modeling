{
 "cells": [
  {
   "cell_type": "code",
   "execution_count": 11,
   "metadata": {
    "collapsed": true
   },
   "outputs": [],
   "source": [
    "import numpy\n",
    "import numpy as np\n",
    "import math\n",
    "import matplotlib.pyplot as plt\n",
    "import pandas as pd\n",
    "from fpdf import FPDF\n",
    "import os\n",
    "import pandas as pdf\n",
    "from tkinter import *\n",
    "from tkinter import filedialog"
   ]
  },
  {
   "cell_type": "code",
   "execution_count": 9,
   "outputs": [
    {
     "name": "stdout",
     "output_type": "stream",
     "text": [
      "size error\n",
      "D:/地勘数据CPT钻孔/6号线静探分工点\\Q28\\SJQ28XJ10.TXT\n",
      "size error\n",
      "D:/地勘数据CPT钻孔/6号线静探分工点\\S27\\SJS27XJ13.TXT\n",
      "size error\n",
      "D:/地勘数据CPT钻孔/6号线静探分工点\\S27\\SJS27XJ16.TXT\n",
      "size error\n",
      "D:/地勘数据CPT钻孔/6号线静探分工点\\S29\\SJS29XJ09.TXT\n",
      "(300, 170)\n",
      "size error\n",
      "D:/地勘数据CPT钻孔/6号线\\S2\\SJS2XJ05.TXT\n",
      "(300, 197)\n",
      "(300, 191)\n"
     ]
    },
    {
     "ename": "KeyboardInterrupt",
     "evalue": "",
     "output_type": "error",
     "traceback": [
      "\u001B[1;31m---------------------------------------------------------------------------\u001B[0m",
      "\u001B[1;31mKeyboardInterrupt\u001B[0m                         Traceback (most recent call last)",
      "\u001B[1;32m<ipython-input-9-b80b2a794df7>\u001B[0m in \u001B[0;36m<module>\u001B[1;34m\u001B[0m\n\u001B[0;32m     69\u001B[0m \u001B[0mbtn3\u001B[0m\u001B[1;33m.\u001B[0m\u001B[0mplace\u001B[0m\u001B[1;33m(\u001B[0m\u001B[0mrelx\u001B[0m\u001B[1;33m=\u001B[0m\u001B[1;36m0.65\u001B[0m\u001B[1;33m,\u001B[0m \u001B[0mrely\u001B[0m\u001B[1;33m=\u001B[0m\u001B[1;36m0.87\u001B[0m\u001B[1;33m,\u001B[0m \u001B[0min_\u001B[0m\u001B[1;33m=\u001B[0m\u001B[0mroot\u001B[0m\u001B[1;33m)\u001B[0m\u001B[1;33m\u001B[0m\u001B[1;33m\u001B[0m\u001B[0m\n\u001B[0;32m     70\u001B[0m \u001B[1;31m# btn.pack()\u001B[0m\u001B[1;33m\u001B[0m\u001B[1;33m\u001B[0m\u001B[1;33m\u001B[0m\u001B[0m\n\u001B[1;32m---> 71\u001B[1;33m \u001B[0mroot\u001B[0m\u001B[1;33m.\u001B[0m\u001B[0mmainloop\u001B[0m\u001B[1;33m(\u001B[0m\u001B[1;33m)\u001B[0m\u001B[1;33m\u001B[0m\u001B[1;33m\u001B[0m\u001B[0m\n\u001B[0m",
      "\u001B[1;32mD:\\conda\\lib\\tkinter\\__init__.py\u001B[0m in \u001B[0;36mmainloop\u001B[1;34m(self, n)\u001B[0m\n\u001B[0;32m   1418\u001B[0m     \u001B[1;32mdef\u001B[0m \u001B[0mmainloop\u001B[0m\u001B[1;33m(\u001B[0m\u001B[0mself\u001B[0m\u001B[1;33m,\u001B[0m \u001B[0mn\u001B[0m\u001B[1;33m=\u001B[0m\u001B[1;36m0\u001B[0m\u001B[1;33m)\u001B[0m\u001B[1;33m:\u001B[0m\u001B[1;33m\u001B[0m\u001B[1;33m\u001B[0m\u001B[0m\n\u001B[0;32m   1419\u001B[0m         \u001B[1;34m\"\"\"Call the mainloop of Tk.\"\"\"\u001B[0m\u001B[1;33m\u001B[0m\u001B[1;33m\u001B[0m\u001B[0m\n\u001B[1;32m-> 1420\u001B[1;33m         \u001B[0mself\u001B[0m\u001B[1;33m.\u001B[0m\u001B[0mtk\u001B[0m\u001B[1;33m.\u001B[0m\u001B[0mmainloop\u001B[0m\u001B[1;33m(\u001B[0m\u001B[0mn\u001B[0m\u001B[1;33m)\u001B[0m\u001B[1;33m\u001B[0m\u001B[1;33m\u001B[0m\u001B[0m\n\u001B[0m\u001B[0;32m   1421\u001B[0m \u001B[1;33m\u001B[0m\u001B[0m\n\u001B[0;32m   1422\u001B[0m     \u001B[1;32mdef\u001B[0m \u001B[0mquit\u001B[0m\u001B[1;33m(\u001B[0m\u001B[0mself\u001B[0m\u001B[1;33m)\u001B[0m\u001B[1;33m:\u001B[0m\u001B[1;33m\u001B[0m\u001B[1;33m\u001B[0m\u001B[0m\n",
      "\u001B[1;31mKeyboardInterrupt\u001B[0m: "
     ]
    }
   ],
   "source": [
    "def getcpt(path):\n",
    "    data=np.loadtxt(path)\n",
    "    n=int(data.shape[0]/2)\n",
    "    Data=np.zeros((n,2))\n",
    "    for i in range(0,n):\n",
    "        Data[i,0]=data[2*i]\n",
    "        Data[i,1]=data[2*i+1]\n",
    "    index=np.argwhere(Data==0)[:,0]\n",
    "    array=np.unique(index)\n",
    "    Data=np.delete(Data,array,axis=0)\n",
    "    d=int(Data.shape[0])\n",
    "    if d<300:\n",
    "        print('size error')\n",
    "        print('{}'.format(path))\n",
    "        cpt=np.zeros((300,3))\n",
    "        cpt[:d,0]=Data[:d,1]/Data[:d,0]/10\n",
    "        cpt[:d,1]=Data[:d,0]*10\n",
    "        cpt[d:299,:]=cpt[d-1,:]\n",
    "    else:\n",
    "        cpt=np.zeros((d,3))\n",
    "        cpt[:,0]=Data[:,1]/Data[:,0]/10\n",
    "        cpt[:,1]=Data[:,0]*10\n",
    "    return cpt,d\n",
    "def cycling(path):\n",
    "    TI=np.arange(0.1,30.1,0.1)\n",
    "    for cur_path, cur_dirs, cur_files in os.walk(path):\n",
    "        for cur_dir in cur_dirs:\n",
    "            for path, cur_dirs, cur_files in os.walk(os.path.join(cur_path,cur_dir)):\n",
    "                for cur_file in cur_files:\n",
    "                    path = os.path.join(cur_path, cur_dir)\n",
    "                    path = os.path.join(path, cur_file)\n",
    "                    # print(path)\n",
    "                    cpt,d=getcpt(path)\n",
    "                    cpt=classification(cpt,d)\n",
    "                    # print(cpt[0:299,2])\n",
    "                    TI=np.column_stack((TI,cpt[0:300,2]))\n",
    "    print(TI.shape)\n",
    "                    # np.savetxt(os.path.join(cur_path, cur_file),cpt)\n",
    "    return  TI\n",
    "def iszeros(TI):\n",
    "    index=np.argwhere(TI==0)\n",
    "    for i in index:\n",
    "        if i[1]==0:\n",
    "            TI[i[0],i[1]]= TI[i[0],i[1]+1]\n",
    "        else:\n",
    "            TI[i[0],i[1]]= TI[i[0],i[1]-1]\n",
    "def filepath():\n",
    "    root1 = Tk()\n",
    "    root1.withdraw()\n",
    "    Folderpath = filedialog.askdirectory()\n",
    "    # filepath=filedialog.askopenfilename()\n",
    "    return Folderpath\n",
    "\n",
    "def queren():\n",
    "    Folderpath = filepath()\n",
    "    TI=cycling(Folderpath)\n",
    "    iszeros(TI)\n",
    "    np.savetxt('{}/TI.txt'.format(Folderpath),TI,'%.1f')\n",
    "    TI=pd.DataFrame(TI)\n",
    "    TI.to_excel('{}/TI.xlsx'.format(Folderpath))\n",
    "def exit():\n",
    "    root.quit()\n",
    "\n",
    "root = Tk()\n",
    "root.title('请输入文件目录')\n",
    "root.geometry('320x320')\n",
    "btn2 = Button(root, text='选择文件夹', command=queren)\n",
    "btn2.place(relx=0.35, rely=0.87, in_=root)\n",
    "# btn.pack()\n",
    "btn3 = Button(root, text='退出', command=exit)\n",
    "btn3.place(relx=0.65, rely=0.87, in_=root)\n",
    "# btn.pack()\n",
    "root.mainloop()"
   ],
   "metadata": {
    "collapsed": false,
    "pycharm": {
     "name": "#%%\n"
    }
   }
  },
  {
   "cell_type": "code",
   "execution_count": 3,
   "outputs": [],
   "source": [
    "def classification(cpt,d):\n",
    "    for i in range(0,d):\n",
    "        y=float(cpt[i,1])\n",
    "        if cpt[i,0]> 10:\n",
    "            cpt[i,0]=cpt[i-1,0]+0.1\n",
    "        x=float(cpt[i,0])\n",
    "        y1=-0.4996+11.7931*0.29094**x\n",
    "        y2=0.83636*math.pow(1.25008,x)\n",
    "        y3=math.exp(1.16653+0.57542*x-0.01407*x*x)\n",
    "        y4=math.exp(1.93435+0.83996*x-0.04413*x*x)\n",
    "        y5=math.exp(3.17279+1.04622*x-0.05286*x*x)\n",
    "        y6=math.exp(4.86044+1.63056*x-0.32427*x*x)\n",
    "        y7=math.exp(9.57894-2.35758*x+0.27909*x*x)\n",
    "        y8=56.07598+704.2389*math.pow(0.48454,x)\n",
    "        y9=math.exp(48.63502-22.08261*x+2.77615*x*x)\n",
    "        if x>0.1 and x<1.67 and y-y1 <=0:\n",
    "            cpt[i,2]=1\n",
    "        if 1.66<x<10 and y-y2<=0 and y-y1>0:\n",
    "            cpt[i,2]=2\n",
    "        if 0.73<x<10.0 and y-y2>0 and y-y3<=0 and y-y1>0 and y-y8<=0:\n",
    "            cpt[i,2]=3\n",
    "        if 0.32<x<5.91 and y-y3>0 and y-y4<=0 and y-y1>0 and y-y8<=0:\n",
    "            cpt[i,2]=4\n",
    "        if 0.1<x<3.82 and y-y4>0 and y-y5<=0 and y-y1>0 and y-y7<=0:\n",
    "            cpt[i,2]=5\n",
    "        if 0.1<x<2.46 and y-y5>0 and y-y6<=0 and y<1000 and y-y7<=0:\n",
    "            cpt[i,2]=6\n",
    "        if 0.1<x<1.03 and y-y6>0:\n",
    "            cpt[i,2]=7\n",
    "        if 1.39<x<4.82 and y-y7>0 and y-y9>0:\n",
    "            cpt[i,2]=8\n",
    "        if 3.82<x<10 and y-y8>0 and y-y9<=0:\n",
    "            cpt[i,2]=9\n",
    "    return cpt"
   ],
   "metadata": {
    "collapsed": false,
    "pycharm": {
     "name": "#%%\n"
    }
   }
  },
  {
   "cell_type": "code",
   "execution_count": 14,
   "outputs": [],
   "source": [
    "# for cur_path, cur_dirs, cur_files in os.walk('D:\\地勘数据CPT钻孔/6C\\（Q23）静探'):\n",
    "#      for pdf_file in cur_files:\n",
    "#         path = os.path.join(cur_path, pdf_file)\n",
    "#         # print(path)\n",
    "#         data=np.loadtxt(path)\n",
    "#         # data=data.reshape(-1)\n",
    "#         # np.savetxt(path,data,'%.4f')\n",
    "# data=np.loadtxt('D:\\地勘数据CPT钻孔/6C\\（Q23）静探/Q23XJ04.txt')\n",
    "# n=int(data.shape[0]/2)\n",
    "# Data=np.zeros((n,2))\n",
    "# for i in range(0,n):\n",
    "#     Data[i,0]=data[2*i]\n",
    "#     Data[i,1]=data[2*i+1]\n",
    "# index=np.argwhere(Data==0)[:,0]\n",
    "# array=np.unique(index)\n",
    "# Data=np.delete(Data,array,axis=0)\n",
    "# d=int(Data.shape[0])\n",
    "# cpt=np.zeros((d,3))\n",
    "# cpt[:,0]=Data[:,1]/Data[:,0]/10\n",
    "# cpt[:,1]=Data[:,0]*10\n",
    "# cpt=classification(cpt,d)\n",
    "import xlrd\n",
    "data=np.loadtxt('D:\\地勘数据CPT钻孔/6C/TI.txt')\n",
    "data=pd.DataFrame(data)\n",
    "data.to_excel('D:\\地勘数据CPT钻孔/6C/TI.xlsx')"
   ],
   "metadata": {
    "collapsed": false,
    "pycharm": {
     "name": "#%%\n"
    }
   }
  },
  {
   "cell_type": "code",
   "execution_count": null,
   "outputs": [],
   "source": [],
   "metadata": {
    "collapsed": false,
    "pycharm": {
     "name": "#%%\n"
    }
   }
  }
 ],
 "metadata": {
  "kernelspec": {
   "display_name": "Python 3",
   "language": "python",
   "name": "python3"
  },
  "language_info": {
   "codemirror_mode": {
    "name": "ipython",
    "version": 2
   },
   "file_extension": ".py",
   "mimetype": "text/x-python",
   "name": "python",
   "nbconvert_exporter": "python",
   "pygments_lexer": "ipython2",
   "version": "2.7.6"
  }
 },
 "nbformat": 4,
 "nbformat_minor": 0
}