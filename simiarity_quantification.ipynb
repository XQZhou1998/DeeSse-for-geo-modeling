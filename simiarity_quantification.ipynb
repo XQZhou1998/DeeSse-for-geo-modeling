{
 "cells": [
  {
   "cell_type": "code",
   "execution_count": null,
   "outputs": [],
   "source": [
    "\n",
    "img3=Image.open(\"D:/相似度图/tt{}.png\".format(31))\n",
    "img2=Image.open(\"D:/相似度图/{}.png\".format(17))\n",
    "img1=Image.open(\"D:/相似度图/ti2.png\")\n",
    "img1 = img1.resize((64,64), Image.ANTIALIAS)\n",
    "cosin1=image_similarity_vectors_via_numpy(img1,img3)\n",
    "cosin2=image_similarity_vectors_via_numpy(img2,img3)"
   ],
   "metadata": {
    "collapsed": false,
    "pycharm": {
     "name": "#%%\n"
    }
   }
  },
  {
   "cell_type": "code",
   "execution_count": null,
   "outputs": [],
   "source": [
    "import imagehash\n",
    "def ahash(image):\n",
    "    image=cv2.resize(image,(8,8),interpolation=cv2.INTER_CUBIC)\n",
    "    #将图片转化为灰度图\n",
    "    gray=cv2.cvtColor(image,cv2.COLOR_RGB2GRAY)\n",
    "    #s为像素和锤石灰度值\n",
    "    s=0\n",
    "    ahash_str=''\n",
    "    for i in range(8):\n",
    "        for j in range(8):\n",
    "            s=s+gray[i,j]\n",
    "    avg=s/64\n",
    "    ahash_str=''\n",
    "    for i in range(8):\n",
    "        for j in range(8):\n",
    "            if gray[i,j]>avg:\n",
    "                ahash_str=ahash_str+'1'\n",
    "            else:\n",
    "                ahash_str=ahash_str+'0'\n",
    "    result=''\n",
    "    for i in range(0,64,4):\n",
    "        result += ''.join('%x' % int(ahash_str[i:i+4],2))\n",
    "    return  result\n",
    "\n",
    "# 计算两个哈希值之间的差异\n",
    "def campHash(hash1, hash2):\n",
    "    hash1=str(hash1)\n",
    "    hash2=str(hash2)\n",
    "    n = 0\n",
    "    # hash长度不同返回-1,此时不能比较\n",
    "    if len(hash1) != len(hash2):\n",
    "        return -1\n",
    "    # 如果hash长度相同遍历长度\n",
    "    for i in range(len(hash1)):\n",
    "        if hash1[i] != hash2[i]:\n",
    "            n = n + 1\n",
    "    return n\n",
    "img1_ahash=imagehash.average_hash(img1)\n",
    "img2_ahash=imagehash.average_hash(img2)\n",
    "img3_ahash=imagehash.average_hash(img3)\n",
    "img1_phash=imagehash.phash(img1)\n",
    "img2_phash=imagehash.phash(img2)\n",
    "img3_phash=imagehash.phash(img3)\n",
    "img1_dhash=imagehash.dhash(img1)\n",
    "img2_dhash=imagehash.dhash(img2)\n",
    "img3_dhash=imagehash.dhash(img3)\n",
    "print(campHash(img1_ahash,img2_ahash))\n",
    "print(campHash(img1_ahash,img3_ahash))\n",
    "print(campHash(img1_dhash,img2_dhash))\n",
    "print(campHash(img1_dhash,img3_dhash))\n",
    "print(campHash(img1_phash,img2_phash))\n",
    "print(campHash(img1_phash,img3_phash))"
   ],
   "metadata": {
    "collapsed": false,
    "pycharm": {
     "name": "#%%\n"
    }
   }
  },
  {
   "cell_type": "code",
   "execution_count": null,
   "outputs": [],
   "source": [
    "count=np.zeros((21,4))\n",
    "for i in range(0,20):\n",
    "    sim_val=sim[i].val[0][0]\n",
    "    for j in range(0,300):\n",
    "        for s in range(0,400):\n",
    "            if sim_val[j][s]==3:\n",
    "                count[i][0]=count[i][0]+1\n",
    "            if sim_val[j][s]==4:\n",
    "                count[i][1]=count[i][1]+1\n",
    "            if sim_val[j][s]==5:\n",
    "                count[i][2]=count[i][2]+1\n",
    "            if sim_val[j][s]==6:\n",
    "                count[i][3]=count[i][3]+1\n",
    "\n",
    "ti_val=ti.val[1][0]\n",
    "for j in range(0,300):\n",
    "     for s in range(0,196):\n",
    "        if ti_val[j][s]==3:\n",
    "            count[20][0]=count[20][0]+1\n",
    "        if ti_val[j][s]==4:\n",
    "            count[20][1]=count[20][1]+1\n",
    "        if ti_val[j][s]==5:\n",
    "            count[20][2]=count[20][2]+1\n",
    "        if ti_val[j][s]==6:\n",
    "            count[20][3]=count[20][3]+1"
   ],
   "metadata": {
    "collapsed": false,
    "pycharm": {
     "name": "#%%\n"
    }
   }
  },
  {
   "cell_type": "code",
   "execution_count": null,
   "outputs": [],
   "source": [
    "from sys import argv\n",
    "from base64 import  b64encode\n",
    "from json import dumps\n",
    "ENCODING='utf-8'\n",
    "IMAGE_NAME=\"D:/ti2.jpg\"\n",
    "JSON_NAME=\"D:/ti2.json\"\n",
    "with open(IMAGE_NAME,'rb') as jpg_file:\n",
    "    byte_content=jpg_file.read()\n",
    "\n",
    "    base64_bytes=b64encode(byte_content)\n",
    "    base64_string=base64_bytes.decode(ENCODING)\n",
    "\n",
    "    raw_data={}\n",
    "    raw_data['name']=IMAGE_NAME\n",
    "    raw_data['image_base64_string']=base64_string\n",
    "    json_data=dumps(raw_data,indent=2)\n",
    "\n",
    "    with open(JSON_NAME,'w') as json_file:\n",
    "        json_file.write(json_data)"
   ],
   "metadata": {
    "collapsed": false,
    "pycharm": {
     "name": "#%%\n"
    }
   }
  },
  {
   "cell_type": "code",
   "execution_count": null,
   "metadata": {
    "collapsed": true
   },
   "outputs": [],
   "source": []
  }
 ],
 "metadata": {
  "kernelspec": {
   "display_name": "Python 3",
   "language": "python",
   "name": "python3"
  },
  "language_info": {
   "codemirror_mode": {
    "name": "ipython",
    "version": 2
   },
   "file_extension": ".py",
   "mimetype": "text/x-python",
   "name": "python",
   "nbconvert_exporter": "python",
   "pygments_lexer": "ipython2",
   "version": "2.7.6"
  }
 },
 "nbformat": 4,
 "nbformat_minor": 0
}